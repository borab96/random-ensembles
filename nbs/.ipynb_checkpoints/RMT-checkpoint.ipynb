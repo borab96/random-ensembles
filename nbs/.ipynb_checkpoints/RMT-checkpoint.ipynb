{
 "cells": [
  {
   "cell_type": "code",
   "execution_count": 276,
   "metadata": {},
   "outputs": [],
   "source": [
    "import scipy.stats as scs\n",
    "import scipy as sc\n",
    "from scipy.linalg import qr\n",
    "import numpy as np\n",
    "import matplotlib.pyplot as plt\n",
    "from tqdm.notebook import tqdm"
   ]
  },
  {
   "cell_type": "markdown",
   "metadata": {},
   "source": [
    "# Random ensembles\n",
    "\n",
    "Random matrix theory (RMT) is the study of ensembles of random matrices with an eye towards universality. In many ways, it can be understood as a formalization and generalization of the ensemble theory of statistical mechanics and can be applied robustly at virtually any physical scale - from string theory and elementary particle physics to virtually any disordered Hamiltonian system. Owing to the universality of certain spectral characteristics of random ensembles, they have found enormous success in classification schemes within physics but also cross-cutting many quantitative disciplines. See [[1]](https://www.oxfordhandbooks.com/view/10.1093/oxfordhb/9780198744191.001.0001/oxfordhb-9780198744191) for an authoritative review. \n",
    "\n",
    "We begin by implementing some generators of standard random ensembles. Beyond the 3 gaussian Dyson class matrices (GOE, GUE, GSE), we also implement the ginibre ensemble as well as the Wigner-Levy ensemble, The former is a non-Hermitian ensemble while the latter has its entries drawn from the $\\alpha-$stable distribution."
   ]
  },
  {
   "cell_type": "code",
   "execution_count": 311,
   "metadata": {
    "pycharm": {
     "name": "#%%\n"
    }
   },
   "outputs": [],
   "source": [
    "def generate_GE(n):\n",
    "    \"\"\"\n",
    "    Gaussian random matrix\n",
    "    \"\"\"\n",
    "    rv = scs.norm()\n",
    "    return rv.rvs(size=[int(n), int(n)])\n",
    "\n",
    "def generate_GOE(n):\n",
    "    \"\"\"\n",
    "    Real self-adjoint Gaussian matrix\n",
    "    \"\"\"\n",
    "    ge = generate_GE(n)\n",
    "    return 0.5*(ge+ge.T)\n",
    "\n",
    "def generate_GSE(n):\n",
    "    \"\"\"\n",
    "    Quaternion self-adjoint Gaussian matrix\n",
    "    \"\"\"\n",
    "    def quaternion(a, b, c, d):\n",
    "        e0 = np.eye(2)\n",
    "        e1 = np.array([[1j,0], [0, -1j]])\n",
    "        e2 = np.array([[0, 1], [-1, 0]])\n",
    "        e3 = np.array([[0, 1j], [1j, 0]])\n",
    "        return np.kron(a, e0)+np.kron(b, e1)+np.kron(c, e2)+np.kron(d, e3)\n",
    "    ge = quaternion(generate_GE(n), generate_GE(n), generate_GE(n), generate_GE(n))\n",
    "    return 0.5*(ge+ge.T.conj())\n",
    "\n",
    "def generate_GUE(n):\n",
    "    \"\"\"\n",
    "    Complex self-adjoint Gaussian matrix\n",
    "    \"\"\"\n",
    "    ge = generate_GE(n)+1j*generate_GE(n)\n",
    "    return 0.5*(ge+ge.T.conj())\n",
    "\n",
    "def generate_ginibre(n):\n",
    "    \"\"\"\n",
    "    Non-Hermitian complex Gaussian matrix\n",
    "    \"\"\"\n",
    "    return generate_GE(n)*np.sqrt(1/(2*n))+1j*generate_GE(n)*np.sqrt(1/(2*n))\n",
    "\n",
    "def wigner_levy(n, alpha, beta=0):\n",
    "    rv = scs.levy_stable(alpha, beta)\n",
    "    return rv.rvs(size=[int(n), int(n)])\n",
    "\n",
    "def generate_LOE(n, alpha, beta=0):\n",
    "    \"\"\"\n",
    "    Real self-adjoint alpha-stable matrix\n",
    "    \"\"\"\n",
    "    ens = wigner_levy(n, alpha, beta)\n",
    "    return 0.5*(ens+ens.T)\n"
   ]
  },
  {
   "cell_type": "markdown",
   "metadata": {},
   "source": [
    "## Spectral statistics\n",
    "\n",
    "One of the most important features of random matrices are their universal spectral properties. Below I implement some methods to get obtain the level-spacing statistics as well as the spectral density. While the objective in the former is simply to build a random ensemble and look at how $|\\lambda_i-\\lambda_{i+1}|$ is distributed, the spectral density, $\\rho$, depends on the size of the random matrix. So, as $N\\to \\infty$, the level spacings distribution concentrates at 0. \n",
    "\n",
    "The approach to fixing this problem by normalizing the mean level separation is sometimes called spectral unfolding. We define a *staircase function*\n",
    "$$\n",
    "F(\\lambda) = N\\int^{\\lambda}_{-\\infty}\\rho(\\nu)d\\nu\n",
    "$$\n",
    "and apply it to the entire spectrum to obtain \n",
    "$$\n",
    "|F(\\lambda_i)-F(\\lambda_{i+1})|=\\text{const}.\n",
    "$$\n",
    "If we know a closed form expression for $F$, we can do this unfolding procedure very rapidly. Indeed, for Dyson-class spectral densities (parameterized by $\\beta=\\{1,2,4\\}$), the integral above has a closed form expression so we utilize it below. Further, Wigner obtained a good approximation of the distribution of the normalized spacings. This approximant is of the form\n",
    "$$\n",
    "w(s;\\beta) = 2 a(\\beta) s^\\beta e^{-b(\\beta)s^2}\n",
    "$$\n",
    "and is the famous Wigner surmise. We will use it to verify that our unfolding is implemented correctly:"
   ]
  },
  {
   "cell_type": "code",
   "execution_count": 3,
   "metadata": {
    "pycharm": {
     "name": "#%%\n"
    }
   },
   "outputs": [],
   "source": [
    "\n",
    "def spectral_density(rm, beta, hermitian=True):\n",
    "    if hermitian:\n",
    "        e = np.linalg.eigvalsh(rm)\n",
    "    else:\n",
    "        e = np.linalg.eigvals(rm)\n",
    "    return e/np.sqrt(len(e)*beta)\n",
    "\n",
    "gamma = lambda x: sc.special.gamma(x)\n",
    "def wigner_surmise(s, beta):\n",
    "    a = 2*(gamma((beta+2)/2))**(beta+1)/(gamma((beta+1)/2))**(beta + 2)\n",
    "    b = (gamma((beta+2)/2))**2/(gamma((beta+1)/2))**2\n",
    "    return a * (s**beta) * np.exp(-b*s**2)\n",
    "\n",
    "\n",
    "def F(eig, n, beta):\n",
    "    # n = len(eig)\n",
    "    return np.piecewise(eig, [eig <= -np.sqrt(2*beta*n), eig >= np.sqrt(2*beta*n)], [0, n, lambda eig: n/2+1/(np.pi*beta)*(n*beta*np.arcsin(np.sqrt(1/(n*2*beta))*eig)+0.5*eig*np.sqrt(2*n*beta-eig**2))])\n",
    "\n",
    "\n",
    "def level_space(generator, *args, n_mc = 200, hermitian=True, normalize_mean=True, dyson_index_override=False):\n",
    "    spacings = []\n",
    "    if \"gse\" in generator.__name__.lower():\n",
    "        dyson_index = 4\n",
    "    elif \"goe\" in generator.__name__.lower():\n",
    "        dyson_index = 1\n",
    "    elif \"gue\" in generator.__name__.lower():\n",
    "        dyson_index = 2\n",
    "    else:\n",
    "        dyson_index = 0\n",
    "    if dyson_index_override:\n",
    "        dyson_index = dyson_index_override\n",
    "\n",
    "\n"
   ]
  },
  {
   "cell_type": "markdown",
   "metadata": {},
   "source": [
    "### The standard Gaussian ensembles\n",
    "\n",
    "Let $\\mathcal M(N)$ denote the space of $N\\times N$ self-adjoint matrices. This space is of course a compact topological group and hence has an associated Haar measure. A random Gaussian ensemble is a set of matrices drawn from a normalized Gaussian Haar measure, $e^{-\\text{tr}M^2}dM$. When\n",
    "\n",
    "- $M_{ij}\\in\\mathbb R$ the Gaussian ensemble is orthogonal, $\\beta=1$\n",
    "- $M_{ij}\\in\\mathbb C$ the Gaussian ensemble is unitary, $\\beta=2$\n",
    "- $M_{ij}\\in\\mathbb H$ (quaternion entries) the Gaussian ensemble is symplectic, $\\beta=4$\n",
    "\n",
    "The first universal property we wish to discuss is the Wigner semi-circle law. It states that the standard Gaussian matrices have their eigenvalues distributed in a semi-circle centered at 0 with radius $\\sqrt{2}$ when scaled as $\\lambda\\to\\lambda/\\sqrt{\\beta N}$."
   ]
  },
  {
   "cell_type": "code",
   "execution_count": 4,
   "metadata": {
    "pycharm": {
     "name": "#%%\n"
    }
   },
   "outputs": [
    {
     "data": {
      "image/png": "[encoded data removed]",
      "text/plain": [
       "<Figure size 432x288 with 1 Axes>"
      ]
     },
     "metadata": {
      "needs_background": "light"
     },
     "output_type": "display_data"
    }
   ],
   "source": [
    "rho = spectral_density(generate_GOE(1500), beta=1)\n",
    "plt.hist(rho, 100, histtype='step', density=True, range=[rho.min()-0.2, rho.max()+0.2]);\n",
    "# plt.axvline(0);"
   ]
  },
  {
   "cell_type": "markdown",
   "metadata": {},
   "source": [
    "We know turn to the level spacing distribution where we will use the analytical result of the staircase function. The integration of the semi-circle distribution,\n",
    "$$\n",
    "\\rho(\\nu) = \\frac{1}{2\\pi}\\sqrt{2-\\nu^2}\n",
    "$$\n",
    "is easy to do on [$-\\infty$, \\lambda]. We find that the eigenvalue spacings are indeed distributed in a manner that firs Wigner's surmise for $\\beta=1$:"
   ]
  },
  {
   "cell_type": "code",
   "execution_count": 5,
   "metadata": {
    "pycharm": {
     "name": "#%%\n"
    }
   },
   "outputs": [
    {
     "data": {
      "image/png": "[encoded data removed]",
      "text/plain": [
       "<Figure size 432x288 with 1 Axes>"
      ]
     },
     "metadata": {
      "needs_background": "light"
     },
     "output_type": "display_data"
    }
   ],
   "source": [
    "plt.hist(level_space(generate_GOE, 100, normalize_mean=True), 100, histtype='step', density=True, range=[0, 3]);\n",
    "t = np.arange(0., 3, 0.05)\n",
    "plt.plot(t, wigner_surmise(t, 1));"
   ]
  },
  {
   "cell_type": "markdown",
   "metadata": {},
   "source": [
    "we can repeat this computation for the GUE and GSE:"
   ]
  },
  {
   "cell_type": "code",
   "execution_count": 24,
   "metadata": {},
   "outputs": [
    {
     "data": {
      "text/plain": [
       "<matplotlib.legend.Legend at 0x1aa48199708>"
      ]
     },
     "execution_count": 24,
     "metadata": {},
     "output_type": "execute_result"
    },
    {
     "data": {
      "image/png": "[encoded data removed]",
      "text/plain": [
       "<Figure size 432x288 with 1 Axes>"
      ]
     },
     "metadata": {
      "needs_background": "light"
     },
     "output_type": "display_data"
    }
   ],
   "source": [
    "for generator, beta in zip([generate_GOE, generate_GUE, generate_GSE], [1,2,4]):\n",
    "    plt.hist(level_space(generator, 100, normalize_mean=True), 100, histtype='step', density=True, range=[0, 5]);\n",
    "    t = np.arange(0., 5, 0.05)\n",
    "    plt.plot(t, wigner_surmise(t, beta), label=rf\"$\\beta={beta}$\");\n",
    "plt.legend()"
   ]
  },
  {
   "cell_type": "markdown",
   "metadata": {},
   "source": [
    "## Numerical unfolding\n",
    "\n",
    "\n",
    "When the spectral distribution is non-integrable, as is the case for many non-standard random ensembles, we need to unfold the spectra numerically. Here is a brute force integration method using a kernel density estimate of the eigenvalue distribution:"
   ]
  },
  {
   "cell_type": "code",
   "execution_count": 265,
   "metadata": {
    "pycharm": {
     "name": "#%%\n"
    }
   },
   "outputs": [
    {
     "data": {
      "image/png": "[encoded data removed]",
      "text/plain": [
       "<Figure size 432x288 with 1 Axes>"
      ]
     },
     "metadata": {
      "needs_background": "light"
     },
     "output_type": "display_data"
    }
   ],
   "source": [
    "dist = spectral_density(generate_GOE(1000), beta=1)\n",
    "kernel = sc.stats.gaussian_kde(dist)\n",
    "t = np.linspace(min(dist), max(dist), len(dist))\n",
    "yhat = kernel.evaluate(t)\n",
    "plt.hist(dist, 100, histtype='step', density=True)\n",
    "plt.plot(t, yhat);"
   ]
  },
  {
   "cell_type": "code",
   "execution_count": 266,
   "metadata": {
    "pycharm": {
     "name": "#%%\n"
    }
   },
   "outputs": [
    {
     "data": {
      "text/plain": [
       "[<matplotlib.lines.Line2D at 0x2b88cfbd9c8>]"
      ]
     },
     "execution_count": 266,
     "metadata": {},
     "output_type": "execute_result"
    },
    {
     "data": {
      "image/png": "[encoded data removed]",
      "text/plain": [
       "<Figure size 432x288 with 1 Axes>"
      ]
     },
     "metadata": {
      "needs_background": "light"
     },
     "output_type": "display_data"
    }
   ],
   "source": [
    "func = lambda t: kernel.evaluate(t)\n",
    "def scipy_staircase(e):\n",
    "    return sc.integrate.quad(func, -np.inf, e)[0]\n",
    "\n",
    "def cdf_spec(e_vec):\n",
    "    sol = np.zeros(len(e_vec))\n",
    "    for i in range(0, len(e_vec)):\n",
    "        sol[i] = scipy_staircase(e_vec[i])\n",
    "    return sol\n",
    "plt.plot(cdf_spec(t))"
   ]
  },
  {
   "cell_type": "code",
   "execution_count": 267,
   "metadata": {},
   "outputs": [
    {
     "name": "stdout",
     "output_type": "stream",
     "text": [
      "Wall time: 5.71 s\n"
     ]
    },
    {
     "data": {
      "text/plain": [
       "(array([1.06540708, 1.02442988, 1.02442988, 0.99369698, 1.02442988,\n",
       "        0.99369698, 1.01418558, 1.00394128, 1.03467418, 1.06540708]),\n",
       " array([0.01190578, 0.10952105, 0.20713632, 0.30475159, 0.40236687,\n",
       "        0.49998214, 0.59759741, 0.69521268, 0.79282795, 0.89044322,\n",
       "        0.98805849]),\n",
       " [<matplotlib.patches.Polygon at 0x2b88d1ba848>])"
      ]
     },
     "execution_count": 267,
     "metadata": {},
     "output_type": "execute_result"
    },
    {
     "data": {
      "image/png": "[encoded data removed]",
      "text/plain": [
       "<Figure size 432x288 with 1 Axes>"
      ]
     },
     "metadata": {
      "needs_background": "light"
     },
     "output_type": "display_data"
    }
   ],
   "source": [
    "%%time\n",
    "plt.hist(cdf_spec(dist), histtype=\"step\", density=True);"
   ]
  },
  {
   "cell_type": "markdown",
   "metadata": {},
   "source": [
    "This is the desired effect, but the brute force method is way too slow to be used on large ensembles. Of course we could vectorize, we just need a cumsum of the spectral distribution. I couldn't figure out the scaling fast enough so let's just stick to the brute force way for now:"
   ]
  },
  {
   "cell_type": "code",
   "execution_count": 292,
   "metadata": {},
   "outputs": [],
   "source": [
    "def level_space(generator, *args, n_mc = 200, hermitian=True, normalize_mean=\"analytic\", dyson_index_override=False):\n",
    "    spacings = []\n",
    "    if \"gse\" in generator.__name__.lower():\n",
    "        dyson_index = 4\n",
    "    elif \"goe\" in generator.__name__.lower():\n",
    "        dyson_index = 1\n",
    "    elif \"gue\" in generator.__name__.lower():\n",
    "        dyson_index = 2\n",
    "    else:\n",
    "        dyson_index = 0\n",
    "    if dyson_index_override:\n",
    "        dyson_index = dyson_index_override\n",
    "\n",
    "    for _ in tqdm(range(n_mc)):\n",
    "        rm = generator(*args)\n",
    "        if hermitian:\n",
    "            e, _ = np.linalg.eigh(rm)\n",
    "        else:\n",
    "            e, _ = np.linalg.eigh(rm)\n",
    "        if normalize_mean==\"analytic\" and bool(dyson_index):\n",
    "            e = F(e, args[0], dyson_index)\n",
    "            eig_spaces = [e[i+1] - e[i] for i in range(args[0]-1) if e[i+1]-e[i]>0.001]\n",
    "        elif normalize_mean==\"brute_force\":\n",
    "            kernel = sc.stats.gaussian_kde(e)\n",
    "            t = np.linspace(min(e), max(e), len(e))\n",
    "            def scipy_staircase(e):\n",
    "                return sc.integrate.quad(lambda s: kernel.evaluate(s), -np.inf, e)[0]\n",
    "            eig_spaces = [scipy_staircase(e[i+1])*len(e) - scipy_staircase(e[i])*len(e)\n",
    "                          for i in range(args[0]-1) if e[i+1]-e[i]>0.001]\n",
    "        else:\n",
    "            eig_spaces = [e[i+1] - e[i] for i in range(args[0]-1) if e[i+1]-e[i]>0.001]\n",
    "        spacings += eig_spaces\n",
    "    return np.array(spacings)"
   ]
  },
  {
   "cell_type": "code",
   "execution_count": 295,
   "metadata": {},
   "outputs": [
    {
     "data": {
      "application/vnd.jupyter.widget-view+json": {
       "model_id": "63683a6a56f540d6883667ae0f0d4d65",
       "version_major": 2,
       "version_minor": 0
      },
      "text/plain": [
       "  0%|          | 0/200 [00:00<?, ?it/s]"
      ]
     },
     "metadata": {},
     "output_type": "display_data"
    }
   ],
   "source": [
    "ls_brute_force = level_space(generate_GOE, 150, normalize_mean=\"brute_force\")"
   ]
  },
  {
   "cell_type": "code",
   "execution_count": 296,
   "metadata": {},
   "outputs": [
    {
     "data": {
      "image/png": "[encoded data removed]",
      "text/plain": [
       "<Figure size 432x288 with 1 Axes>"
      ]
     },
     "metadata": {
      "needs_background": "light"
     },
     "output_type": "display_data"
    }
   ],
   "source": [
    "plt.hist(ls_brute_force, bins='auto', histtype='step', density=True);\n",
    "t = np.linspace(0., ls_brute_force.max(), 100)\n",
    "plt.plot(t, wigner_surmise(t, 1));"
   ]
  },
  {
   "cell_type": "markdown",
   "metadata": {},
   "source": [
    "Now that we have confirmed that the numerical unfolding method works, we can apply it the levy ensemble whose spectral density is a fat/skinny tailed distrubtion that may or may not be skewed."
   ]
  },
  {
   "cell_type": "code",
   "execution_count": 298,
   "metadata": {},
   "outputs": [
    {
     "data": {
      "application/vnd.jupyter.widget-view+json": {
       "model_id": "3c7f7090f4f045bcb35e40a4d59a7062",
       "version_major": 2,
       "version_minor": 0
      },
      "text/plain": [
       "  0%|          | 0/50 [00:00<?, ?it/s]"
      ]
     },
     "metadata": {},
     "output_type": "display_data"
    },
    {
     "name": "stderr",
     "output_type": "stream",
     "text": [
      "C:\\Users\\Bora\\anaconda3\\envs\\gene\\lib\\site-packages\\ipykernel_launcher.py:27: IntegrationWarning: The integral is probably divergent, or slowly convergent.\n"
     ]
    }
   ],
   "source": [
    "ls_brute_force_levy = level_space(generate_LOE, 100, 1.7, 0, n_mc=50, normalize_mean=\"brute_force\")"
   ]
  },
  {
   "cell_type": "code",
   "execution_count": 318,
   "metadata": {},
   "outputs": [
    {
     "data": {
      "image/png": "[encoded data removed]",
      "text/plain": [
       "<Figure size 432x288 with 1 Axes>"
      ]
     },
     "metadata": {
      "needs_background": "light"
     },
     "output_type": "display_data"
    },
    {
     "data": {
      "image/png": "[encoded data removed]",
      "text/plain": [
       "<Figure size 432x288 with 1 Axes>"
      ]
     },
     "metadata": {
      "needs_background": "light"
     },
     "output_type": "display_data"
    }
   ],
   "source": [
    "plt.hist(spectral_density(generate_LOE( 1000, 1.7, 0), beta=1), bins='auto', \n",
    "         histtype='step', density=True, label=\"LOE\", range=[-6,6])\n",
    "plt.hist(spectral_density(generate_GOE(1000), beta=1), bins='auto', histtype='step', density=True, label=\"GOE\")\n",
    "plt.legend()\n",
    "\n",
    "plt.figure()\n",
    "plt.hist(ls_brute_force_levy, bins='auto', histtype='step', density=True, range=[0,7]);\n",
    "t = np.linspace(0., ls_brute_force.max(), 100)\n",
    "plt.plot(t, wigner_surmise(t, 1));"
   ]
  },
  {
   "cell_type": "markdown",
   "metadata": {},
   "source": [
    "Curiously, for $\\alpha=1.7$ the spectral density changes dramatically but the level spacing statistics remains close to that of the GOE indicating a level of robustness to the universality of level spacing statistics."
   ]
  },
  {
   "cell_type": "markdown",
   "metadata": {},
   "source": [
    "# JUNK"
   ]
  },
  {
   "cell_type": "code",
   "execution_count": null,
   "metadata": {
    "pycharm": {
     "name": "#%%\n"
    }
   },
   "outputs": [],
   "source": [
    "def disorder(ensemble, rv, seed=None):\n",
    "    return ensemble/np.sqrt(rv.rvs(random_state=seed)/rv.mean())"
   ]
  },
  {
   "cell_type": "code",
   "execution_count": 285,
   "metadata": {
    "pycharm": {
     "name": "#%%\n"
    }
   },
   "outputs": [
    {
     "name": "stdout",
     "output_type": "stream",
     "text": [
      "[[-0.22022508  0.06542912 -0.17679002 ... -0.0167055  -0.41605301\n",
      "  -0.37245735]\n",
      " [ 0.06542912 -0.97505137  0.24755612 ...  0.40614579  0.19826679\n",
      "  -0.03835486]\n",
      " [-0.17679002  0.24755612  0.22775433 ...  0.33573769  0.15684622\n",
      "   0.48375314]\n",
      " ...\n",
      " [-0.0167055   0.40614579  0.33573769 ...  0.22233227 -0.24460768\n",
      "  -0.76383333]\n",
      " [-0.41605301  0.19826679  0.15684622 ... -0.24460768  0.08897676\n",
      "   0.39699576]\n",
      " [-0.37245735 -0.03835486  0.48375314 ... -0.76383333  0.39699576\n",
      "   0.40841014]]\n"
     ]
    }
   ],
   "source": [
    "print(disorder(generate_GOE(100), scs.lognorm(s=1, loc=1, scale=1), seed=1))"
   ]
  },
  {
   "cell_type": "code",
   "execution_count": null,
   "metadata": {
    "pycharm": {
     "name": "#%%\n"
    }
   },
   "outputs": [],
   "source": []
  }
 ],
 "metadata": {
  "kernelspec": {
   "display_name": "Python 3 (ipykernel)",
   "language": "python",
   "name": "python3"
  },
  "language_info": {
   "codemirror_mode": {
    "name": "ipython",
    "version": 3
   },
   "file_extension": ".py",
   "mimetype": "text/x-python",
   "name": "python",
   "nbconvert_exporter": "python",
   "pygments_lexer": "ipython3",
   "version": "3.7.1"
  }
 },
 "nbformat": 4,
 "nbformat_minor": 4
}
